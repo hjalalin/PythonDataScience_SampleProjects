{
 "cells": [
  {
   "cell_type": "code",
   "execution_count": 1,
   "id": "a0055709",
   "metadata": {},
   "outputs": [],
   "source": [
    "#!pip install yfinance==0.1.67\n",
    "#!pip install pandas==1.3.3\n",
    "#pip install matplotlib\n",
    "#!pip install requests==2.26.0\n",
    "#!pip install bs4==4.10.0\n",
    "#!pip install html5lib==1.1 \n",
    "#!pip install lxml==4.6.4\n",
    "#!pip install plotly==5.3.1\n",
    "\n"
   ]
  },
  {
   "cell_type": "code",
   "execution_count": 2,
   "id": "37017dbf",
   "metadata": {},
   "outputs": [],
   "source": [
    "import yfinance as yf\n",
    "import pandas as pd\n",
    "import matplotlib.pyplot as plt\n",
    "import requests\n",
    "from bs4 import BeautifulSoup\n",
    "\n",
    "stock=\"AMZN\""
   ]
  },
  {
   "cell_type": "code",
   "execution_count": 3,
   "id": "64fe79bf",
   "metadata": {},
   "outputs": [],
   "source": [
    "stock = yf.Ticker(stock)"
   ]
  },
  {
   "cell_type": "code",
   "execution_count": 4,
   "id": "4b546666",
   "metadata": {},
   "outputs": [
    {
     "data": {
      "text/plain": [
       "{'zip': '98109-5210',\n",
       " 'sector': 'Consumer Cyclical',\n",
       " 'fullTimeEmployees': 1622000,\n",
       " 'longBusinessSummary': 'Amazon.com, Inc. engages in the retail sale of consumer products and subscriptions in North America and internationally. The company operates through three segments: North America, International, and Amazon Web Services (AWS). It sells merchandise and content purchased for resale from third-party sellers through physical and online stores. The company also manufactures and sells electronic devices, including Kindle, Fire tablets, Fire TVs, Rings, and Echo and other devices; provides Kindle Direct Publishing, an online service that allows independent authors and publishers to make their books available in the Kindle Store; and develops and produces media content. In addition, it offers programs that enable sellers to sell their products on its websites, as well as its stores; and programs that allow authors, musicians, filmmakers, Twitch streamers, skill and app developers, and others to publish and sell content. Further, the company provides compute, storage, database, analytics, machine learning, and other services, as well as fulfillment, advertising, publishing, and digital content subscriptions. Additionally, it offers Amazon Prime, a membership program, which provides free shipping of various items; access to streaming of movies and series; and other services. The company serves consumers, sellers, developers, enterprises, and content creators. Amazon.com, Inc. was incorporated in 1994 and is headquartered in Seattle, Washington.',\n",
       " 'city': 'Seattle',\n",
       " 'phone': '206 266 1000',\n",
       " 'state': 'WA',\n",
       " 'country': 'United States',\n",
       " 'companyOfficers': [],\n",
       " 'website': 'https://www.amazon.com',\n",
       " 'maxAge': 1,\n",
       " 'address1': '410 Terry Avenue North',\n",
       " 'industry': 'Internet Retail',\n",
       " 'ebitdaMargins': 0.116059996,\n",
       " 'profitMargins': 0.04482,\n",
       " 'grossMargins': 0.42137,\n",
       " 'operatingCashflow': 39324000256,\n",
       " 'revenueGrowth': 0.073,\n",
       " 'operatingMargins': 0.041199997,\n",
       " 'ebitda': 55449001984,\n",
       " 'targetLowPrice': 2250,\n",
       " 'recommendationKey': 'buy',\n",
       " 'grossProfits': 197478000000,\n",
       " 'freeCashflow': 18005624832,\n",
       " 'targetMedianPrice': 3700,\n",
       " 'currentPrice': 2187.34,\n",
       " 'earningsGrowth': None,\n",
       " 'currentRatio': 0.96,\n",
       " 'returnOnAssets': 0.03353,\n",
       " 'numberOfAnalystOpinions': 53,\n",
       " 'targetMeanPrice': 3680.85,\n",
       " 'debtToEquity': 84.542,\n",
       " 'returnOnEquity': 0.18045999,\n",
       " 'targetHighPrice': 4655,\n",
       " 'totalCash': 66384998400,\n",
       " 'totalDebt': 113286995968,\n",
       " 'totalRevenue': 477748002816,\n",
       " 'totalCashPerShare': 130.54,\n",
       " 'financialCurrency': 'USD',\n",
       " 'revenuePerShare': 941.839,\n",
       " 'quickRatio': 0.709,\n",
       " 'recommendationMean': 1.7,\n",
       " 'exchange': 'NMS',\n",
       " 'shortName': 'Amazon.com, Inc.',\n",
       " 'longName': 'Amazon.com, Inc.',\n",
       " 'exchangeTimezoneName': 'America/New_York',\n",
       " 'exchangeTimezoneShortName': 'EDT',\n",
       " 'isEsgPopulated': False,\n",
       " 'gmtOffSetMilliseconds': '-14400000',\n",
       " 'quoteType': 'EQUITY',\n",
       " 'symbol': 'AMZN',\n",
       " 'messageBoardId': 'finmb_18749',\n",
       " 'market': 'us_market',\n",
       " 'annualHoldingsTurnover': None,\n",
       " 'enterpriseToRevenue': 2.744,\n",
       " 'beta3Year': None,\n",
       " 'enterpriseToEbitda': 23.642,\n",
       " '52WeekChange': -0.28053373,\n",
       " 'morningStarRiskRating': None,\n",
       " 'forwardEps': 53.06,\n",
       " 'revenueQuarterlyGrowth': None,\n",
       " 'sharesOutstanding': 508720000,\n",
       " 'fundInceptionDate': None,\n",
       " 'annualReportExpenseRatio': None,\n",
       " 'totalAssets': None,\n",
       " 'bookValue': 263.501,\n",
       " 'sharesShort': 3554951,\n",
       " 'sharesPercentSharesOut': 0.1397,\n",
       " 'fundFamily': None,\n",
       " 'lastFiscalYearEnd': 1640908800,\n",
       " 'heldPercentInstitutions': 0.60706,\n",
       " 'netIncomeToCommon': 21412999168,\n",
       " 'trailingEps': 41.69,\n",
       " 'lastDividendValue': None,\n",
       " 'SandP52WeekChange': -0.015540421,\n",
       " 'priceToBook': 8.301069,\n",
       " 'heldPercentInsiders': 0.09874,\n",
       " 'nextFiscalYearEnd': 1703980800,\n",
       " 'yield': None,\n",
       " 'mostRecentQuarter': 1648684800,\n",
       " 'shortRatio': 1.13,\n",
       " 'sharesShortPreviousMonthDate': 1647302400,\n",
       " 'floatShares': 457716724,\n",
       " 'beta': 1.119607,\n",
       " 'enterpriseValue': 1310944919552,\n",
       " 'priceHint': 2,\n",
       " 'threeYearAverageReturn': None,\n",
       " 'lastSplitDate': 936230400,\n",
       " 'lastSplitFactor': '2:1',\n",
       " 'legalType': None,\n",
       " 'lastDividendDate': None,\n",
       " 'morningStarOverallRating': None,\n",
       " 'earningsQuarterlyGrowth': None,\n",
       " 'priceToSalesTrailing12Months': 2.3291433,\n",
       " 'dateShortInterest': 1649894400,\n",
       " 'pegRatio': 3.62,\n",
       " 'ytdReturn': None,\n",
       " 'forwardPE': 41.2239,\n",
       " 'lastCapGain': None,\n",
       " 'shortPercentOfFloat': 0.16,\n",
       " 'sharesShortPriorMonth': 4229483,\n",
       " 'impliedSharesOutstanding': 0,\n",
       " 'category': None,\n",
       " 'fiveYearAverageReturn': None,\n",
       " 'previousClose': 2295.45,\n",
       " 'regularMarketOpen': 2226.25,\n",
       " 'twoHundredDayAverage': 3248.517,\n",
       " 'trailingAnnualDividendYield': 0,\n",
       " 'payoutRatio': 0,\n",
       " 'volume24Hr': None,\n",
       " 'regularMarketDayHigh': 2280,\n",
       " 'navPrice': None,\n",
       " 'averageDailyVolume10Day': 6037900,\n",
       " 'regularMarketPreviousClose': 2295.45,\n",
       " 'fiftyDayAverage': 2995.1353,\n",
       " 'trailingAnnualDividendRate': 0,\n",
       " 'open': 2226.25,\n",
       " 'toCurrency': None,\n",
       " 'averageVolume10days': 6037900,\n",
       " 'expireDate': None,\n",
       " 'algorithm': None,\n",
       " 'dividendRate': None,\n",
       " 'exDividendDate': None,\n",
       " 'circulatingSupply': None,\n",
       " 'startDate': None,\n",
       " 'regularMarketDayLow': 2179.355,\n",
       " 'currency': 'USD',\n",
       " 'trailingPE': 52.46678,\n",
       " 'regularMarketVolume': 4511740,\n",
       " 'lastMarket': None,\n",
       " 'maxSupply': None,\n",
       " 'openInterest': None,\n",
       " 'marketCap': 1112743608320,\n",
       " 'volumeAllCurrencies': None,\n",
       " 'strikePrice': None,\n",
       " 'averageVolume': 3764143,\n",
       " 'dayLow': 2179.355,\n",
       " 'ask': 2190,\n",
       " 'askSize': 900,\n",
       " 'volume': 4511740,\n",
       " 'fiftyTwoWeekHigh': 3773.08,\n",
       " 'fromCurrency': None,\n",
       " 'fiveYearAvgDividendYield': None,\n",
       " 'fiftyTwoWeekLow': 2179.355,\n",
       " 'bid': 2188.59,\n",
       " 'tradeable': False,\n",
       " 'dividendYield': None,\n",
       " 'bidSize': 1000,\n",
       " 'dayHigh': 2280,\n",
       " 'regularMarketPrice': 2187.34,\n",
       " 'preMarketPrice': 2224.5,\n",
       " 'logo_url': 'https://logo.clearbit.com/amazon.com'}"
      ]
     },
     "execution_count": 4,
     "metadata": {},
     "output_type": "execute_result"
    }
   ],
   "source": [
    "stock_info=stock.info\n",
    "stock_info"
   ]
  },
  {
   "cell_type": "code",
   "execution_count": 5,
   "id": "4374e4ac",
   "metadata": {},
   "outputs": [
    {
     "data": {
      "text/plain": [
       "'United States'"
      ]
     },
     "execution_count": 5,
     "metadata": {},
     "output_type": "execute_result"
    }
   ],
   "source": [
    "stock_info['country']\n"
   ]
  },
  {
   "cell_type": "code",
   "execution_count": 6,
   "id": "0f254657",
   "metadata": {},
   "outputs": [
    {
     "data": {
      "text/plain": [
       "'Consumer Cyclical'"
      ]
     },
     "execution_count": 6,
     "metadata": {},
     "output_type": "execute_result"
    }
   ],
   "source": [
    "stock_info['sector']"
   ]
  },
  {
   "cell_type": "code",
   "execution_count": 7,
   "id": "9a9e7900",
   "metadata": {},
   "outputs": [
    {
     "ename": "AttributeError",
     "evalue": "'Index' object has no attribute 'tz_localize'",
     "output_type": "error",
     "traceback": [
      "\u001b[1;31m---------------------------------------------------------------------------\u001b[0m",
      "\u001b[1;31mAttributeError\u001b[0m                            Traceback (most recent call last)",
      "\u001b[1;32m~\\AppData\\Local\\Temp/ipykernel_17884/1335233353.py\u001b[0m in \u001b[0;36m<module>\u001b[1;34m\u001b[0m\n\u001b[1;32m----> 1\u001b[1;33m \u001b[0mstock_share_price_data\u001b[0m \u001b[1;33m=\u001b[0m \u001b[0mstock\u001b[0m\u001b[1;33m.\u001b[0m\u001b[0mhistory\u001b[0m\u001b[1;33m(\u001b[0m\u001b[0mperiod\u001b[0m\u001b[1;33m=\u001b[0m\u001b[1;34m\"max\"\u001b[0m\u001b[1;33m)\u001b[0m\u001b[1;33m\u001b[0m\u001b[1;33m\u001b[0m\u001b[0m\n\u001b[0m",
      "\u001b[1;32m~\\AppData\\Local\\Programs\\Python\\Python310\\lib\\site-packages\\yfinance\\base.py\u001b[0m in \u001b[0;36mhistory\u001b[1;34m(self, period, interval, start, end, prepost, actions, auto_adjust, back_adjust, proxy, rounding, tz, timeout, **kwargs)\u001b[0m\n\u001b[0;32m    277\u001b[0m \u001b[1;33m\u001b[0m\u001b[0m\n\u001b[0;32m    278\u001b[0m         \u001b[1;31m# index eod/intraday\u001b[0m\u001b[1;33m\u001b[0m\u001b[1;33m\u001b[0m\u001b[0m\n\u001b[1;32m--> 279\u001b[1;33m         df.index = df.index.tz_localize(\"UTC\").tz_convert(\n\u001b[0m\u001b[0;32m    280\u001b[0m             data[\"chart\"][\"result\"][0][\"meta\"][\"exchangeTimezoneName\"])\n\u001b[0;32m    281\u001b[0m \u001b[1;33m\u001b[0m\u001b[0m\n",
      "\u001b[1;31mAttributeError\u001b[0m: 'Index' object has no attribute 'tz_localize'"
     ]
    }
   ],
   "source": [
    "stock_share_price_data = stock.history(period=\"max\")"
   ]
  },
  {
   "cell_type": "code",
   "execution_count": null,
   "id": "653ed967",
   "metadata": {},
   "outputs": [],
   "source": [
    "stock_share_price_data.head()"
   ]
  },
  {
   "cell_type": "code",
   "execution_count": null,
   "id": "e1ec37c4",
   "metadata": {},
   "outputs": [],
   "source": [
    "stock_share_price_data.reset_index(inplace=True)\n",
    "stock_share_price_data.plot(x=\"Date\", y=\"Open\")"
   ]
  },
  {
   "cell_type": "code",
   "execution_count": null,
   "id": "8d3be568",
   "metadata": {},
   "outputs": [],
   "source": [
    "stock.dividends"
   ]
  },
  {
   "cell_type": "code",
   "execution_count": null,
   "id": "d4dbcefa",
   "metadata": {},
   "outputs": [],
   "source": [
    "stock.dividends.plot()"
   ]
  },
  {
   "cell_type": "code",
   "execution_count": null,
   "id": "6cfe0823",
   "metadata": {},
   "outputs": [],
   "source": [
    "url = \"https://cf-courses-data.s3.us.cloud-object-storage.appdomain.cloud/IBMDeveloperSkillsNetwork-PY0220EN-SkillsNetwork/labs/project/amazon_data_webpage.html\"\n",
    "\n",
    "data  = requests.get(url).text"
   ]
  },
  {
   "cell_type": "code",
   "execution_count": null,
   "id": "13f39bec",
   "metadata": {},
   "outputs": [],
   "source": [
    "soup = BeautifulSoup(data, 'html5lib')"
   ]
  },
  {
   "cell_type": "code",
   "execution_count": null,
   "id": "80d41661",
   "metadata": {},
   "outputs": [],
   "source": [
    "soup"
   ]
  },
  {
   "cell_type": "code",
   "execution_count": null,
   "id": "3358a9f8",
   "metadata": {},
   "outputs": [],
   "source": [
    "stock_data = pd.DataFrame(columns=[\"Date\", \"Open\", \"High\", \"Low\", \"Close\", \"Volume\"])\n",
    "\n",
    "# First we isolate the body of the table which contains all the information\n",
    "# Then we loop through each row and find all the column values for each row\n",
    "for row in soup.find(\"tbody\").find_all('tr'):\n",
    "    col = row.find_all(\"td\")\n",
    "    date = col[0].text\n",
    "    Open = col[1].text\n",
    "    high = col[2].text\n",
    "    low = col[3].text\n",
    "    close = col[4].text\n",
    "    adj_close = col[5].text\n",
    "    volume = col[6].text\n",
    "    \n",
    "    # Finally we append the data of each row to the table\n",
    "    stock_data = stock_data.append({\"Date\":date, \"Open\":Open, \"High\":high, \"Low\":low, \"Close\":close, \"Adj Close\":adj_close, \"Volume\":volume}, ignore_index=True)    "
   ]
  },
  {
   "cell_type": "code",
   "execution_count": null,
   "id": "d414d933",
   "metadata": {},
   "outputs": [],
   "source": [
    "stock_data.head()"
   ]
  },
  {
   "cell_type": "code",
   "execution_count": null,
   "id": "73bbfb61",
   "metadata": {},
   "outputs": [],
   "source": [
    "read_html_pandas_data = pd.read_html(url)"
   ]
  },
  {
   "cell_type": "code",
   "execution_count": null,
   "id": "8cc1b4ff",
   "metadata": {},
   "outputs": [],
   "source": [
    "read_html_pandas_data = pd.read_html(str(soup))"
   ]
  },
  {
   "cell_type": "code",
   "execution_count": null,
   "id": "86cc31f9",
   "metadata": {},
   "outputs": [],
   "source": [
    "soup.title"
   ]
  },
  {
   "cell_type": "code",
   "execution_count": null,
   "id": "919d1a0f",
   "metadata": {},
   "outputs": [],
   "source": [
    "stock_data[['Open']]"
   ]
  },
  {
   "cell_type": "code",
   "execution_count": null,
   "id": "e6143d8b",
   "metadata": {},
   "outputs": [],
   "source": []
  }
 ],
 "metadata": {
  "kernelspec": {
   "display_name": "Python 3 (ipykernel)",
   "language": "python",
   "name": "python3"
  },
  "language_info": {
   "codemirror_mode": {
    "name": "ipython",
    "version": 3
   },
   "file_extension": ".py",
   "mimetype": "text/x-python",
   "name": "python",
   "nbconvert_exporter": "python",
   "pygments_lexer": "ipython3",
   "version": "3.10.0"
  }
 },
 "nbformat": 4,
 "nbformat_minor": 5
}
